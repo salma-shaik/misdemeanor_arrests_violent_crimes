{
 "cells": [
  {
   "cell_type": "markdown",
   "id": "indian-appeal",
   "metadata": {},
   "source": [
    "### Load required packages"
   ]
  },
  {
   "cell_type": "code",
   "execution_count": 12,
   "id": "stainless-council",
   "metadata": {},
   "outputs": [],
   "source": [
    "import pandas as pd\n",
    "import numpy as np\n",
    "import openpyxl as opxl"
   ]
  },
  {
   "cell_type": "markdown",
   "id": "direct-freedom",
   "metadata": {},
   "source": [
    "### Load the xlsx datafiles using openpyxl"
   ]
  },
  {
   "cell_type": "code",
   "execution_count": 53,
   "id": "blank-mexico",
   "metadata": {},
   "outputs": [],
   "source": [
    "## Utility function to convert excel sheet to df; print intial stats\n",
    "def sheets_to_df(wb):\n",
    "    ## Get sheetnames\n",
    "    wb_sheetnames = wb.sheetnames\n",
    "\n",
    "    df_names=[]\n",
    "    df_list = []\n",
    "\n",
    "    ## Obtain all the sheetnames to name representative dfs\n",
    "    for sheetname in wb_sheetnames:\n",
    "        df_names.append(f'{sheetname}_df')\n",
    "\n",
    "    print(df_names)\n",
    "\n",
    "    for df, sheet in zip(df_names, wb_sheetnames):\n",
    "        ## Get the sheet data to be stored in a df\n",
    "        sheet_data = wb[sheet].values\n",
    "\n",
    "        ## Get the column names from the header\n",
    "        col_names = next(sheet_data)[0:]\n",
    "\n",
    "        ## Create the df with the data and columns\n",
    "        df = pd.DataFrame(data=sheet_data, columns = col_names)\n",
    "        df_list.append(df)\n",
    "        \n",
    "        print(df.dtypes)\n",
    "        print(df.shape[0], '\\n')\n",
    "        print(df['OBJECTID'].min(), df['OBJECTID'].max())\n",
    "        \n",
    "    return df_list\n",
    "        "
   ]
  },
  {
   "cell_type": "code",
   "execution_count": 54,
   "id": "funny-hypothetical",
   "metadata": {
    "collapsed": true
   },
   "outputs": [
    {
     "name": "stdout",
     "output_type": "stream",
     "text": [
      "['Arrest_df', 'Murder_df']\n",
      "OBJECTID               int64\n",
      "year                   int64\n",
      "ArrestLoca            object\n",
      "IncidentLo            object\n",
      "ChargeDesc            object\n",
      "Neighborho            object\n",
      "Location_1            object\n",
      "Arrest                 int64\n",
      "Age                    int64\n",
      "Sex                   object\n",
      "Race                  object\n",
      "ArrestDate    datetime64[ns]\n",
      "ArrestTime            object\n",
      "IncidentOf            object\n",
      "Charge                object\n",
      "District              object\n",
      "Post                   int64\n",
      "Longitude            float64\n",
      "Latitude             float64\n",
      "FID_1                  int64\n",
      "OBJECTID_1             int64\n",
      "Area_New               int64\n",
      "SUM_Popula             int64\n",
      "SUM_White              int64\n",
      "SUM_Blk_Af             int64\n",
      "SUM_Hisp_L             int64\n",
      "SUM_Male               int64\n",
      "Shape_Leng           float64\n",
      "Shape_Area           float64\n",
      "dtype: object\n",
      "102514 \n",
      "\n",
      "1 102514\n",
      "OBJECTID               int64\n",
      "year                   int64\n",
      "ArrestLoca            object\n",
      "IncidentLo            object\n",
      "ChargeDesc            object\n",
      "Neighborho            object\n",
      "Location_1            object\n",
      "Arrest                 int64\n",
      "Age                    int64\n",
      "Sex                   object\n",
      "Race                  object\n",
      "ArrestDate    datetime64[ns]\n",
      "ArrestTime            object\n",
      "IncidentOf            object\n",
      "Charge                object\n",
      "District              object\n",
      "Post                   int64\n",
      "Longitude            float64\n",
      "Latitude             float64\n",
      "FID_1                  int64\n",
      "OBJECTID_1             int64\n",
      "Area_New               int64\n",
      "SUM_Popula             int64\n",
      "SUM_White              int64\n",
      "SUM_Blk_Af             int64\n",
      "SUM_Hisp_L             int64\n",
      "SUM_Male               int64\n",
      "Shape_Leng           float64\n",
      "Shape_Area           float64\n",
      "dtype: object\n",
      "97 \n",
      "\n",
      "792 101494\n"
     ]
    }
   ],
   "source": [
    "## Load arrests workbook\n",
    "baltimore_arrests_13_18_wb = opxl.load_workbook('/Users/salma/Research/papers/Baltimore_FreddieGray/data/Baltimore_Arrests_Mapped_2013_2018.xlsx')\n",
    "arrests_df = sheets_to_df(baltimore_arrests_13_18_wb)"
   ]
  },
  {
   "cell_type": "code",
   "execution_count": 57,
   "id": "unnecessary-suggestion",
   "metadata": {},
   "outputs": [
    {
     "name": "stdout",
     "output_type": "stream",
     "text": [
      "2\n"
     ]
    }
   ],
   "source": [
    "## to check how many dfs were formed\n",
    "print(arrests_df.__len__())"
   ]
  },
  {
   "cell_type": "code",
   "execution_count": 64,
   "id": "tracked-assignment",
   "metadata": {},
   "outputs": [
    {
     "name": "stdout",
     "output_type": "stream",
     "text": [
      "Cds:Possess-Not Marihuana || Cds Violation        5742\n",
      "CDS                                               4082\n",
      "Unknown Charge                                    4049\n",
      "Cds:Possess-Not Marihuana || Cds                  3694\n",
      "CDS VIOLATION                                     3067\n",
      "                                                  ... \n",
      "Cds: Possession-Marihuana || Csds Violation          1\n",
      "AGG. ASSAULT/DES OF PROPORTY                         1\n",
      "Asslt-Sec Degree || Assult Common                    1\n",
      "Cds: Possession-Marihuana || Cds Possession Of       1\n",
      "Att-Cds Manuf/Dist-Narc || Dist Of Marijuana         1\n",
      "Name: ChargeDesc, Length: 11795, dtype: int64\n"
     ]
    }
   ],
   "source": [
    "## Get the unique values of ChargeDesc, IncidentOf to see if they give info about arrest type\n",
    "## [0] since 1st sheet 'Arrests' has almost all of the records\n",
    "print(arrests_df[0]['ChargeDesc'].value_counts())"
   ]
  },
  {
   "cell_type": "code",
   "execution_count": 65,
   "id": "nearby-jacob",
   "metadata": {},
   "outputs": [
    {
     "name": "stdout",
     "output_type": "stream",
     "text": [
      "Unknown Offense                           44441\n",
      "87-Narcotics                              10962\n",
      "4E-Common Assault                          5568\n",
      "87NARCOTICS                                5237\n",
      "4ECOMMON ASSAULT                           3328\n",
      "                                          ...  \n",
      "77-Dog Bite                                   1\n",
      "84BOMB SCARE                                  1\n",
      "8COARSON STORAGE STR-OCC                      1\n",
      "60SICK PERSON                                 1\n",
      "96INACTIVE INVESTIGATIVE STOP (4/2/15)        1\n",
      "Name: IncidentOf, Length: 304, dtype: int64\n"
     ]
    }
   ],
   "source": [
    "print(arrests_df[0]['IncidentOf'].value_counts())"
   ]
  },
  {
   "cell_type": "code",
   "execution_count": 58,
   "id": "wired-blake",
   "metadata": {
    "collapsed": true
   },
   "outputs": [
    {
     "name": "stdout",
     "output_type": "stream",
     "text": [
      "['Crime_Mapped_df', 'Homicides_df']\n",
      "OBJECTID                 int64\n",
      "year                     int64\n",
      "location                object\n",
      "location_1              object\n",
      "District                object\n",
      "CrimeDate       datetime64[ns]\n",
      "CrimeTime               object\n",
      "CrimeCode               object\n",
      "Description             object\n",
      "Inside_Out              object\n",
      "Weapon                  object\n",
      "Post                     int64\n",
      "Neighborhood            object\n",
      "Longitude              float64\n",
      "Latitude               float64\n",
      "Premise                 object\n",
      "vri_name1               object\n",
      "Total_Inci               int64\n",
      "FID_1                    int64\n",
      "OBJECTID_1               int64\n",
      "Area_New                 int64\n",
      "SUM_Popula               int64\n",
      "SUM_White                int64\n",
      "SUM_Blk_Af               int64\n",
      "SUM_Hisp_L               int64\n",
      "SUM_Male                 int64\n",
      "Shape_Leng             float64\n",
      "Shape_Area             float64\n",
      "dtype: object\n",
      "291109 \n",
      "\n",
      "23121 314229\n",
      "OBJECTID                 int64\n",
      "year                     int64\n",
      "location                object\n",
      "location_1              object\n",
      "District                object\n",
      "CrimeDate       datetime64[ns]\n",
      "CrimeTime               object\n",
      "CrimeCode               object\n",
      "Description             object\n",
      "Inside_Out              object\n",
      "Weapon                  object\n",
      "Post                     int64\n",
      "Neighborhood            object\n",
      "Longitude              float64\n",
      "Latitude               float64\n",
      "Premise                 object\n",
      "vri_name1               object\n",
      "Total_Inci               int64\n",
      "FID_1                    int64\n",
      "OBJECTID_1               int64\n",
      "Area_New                 int64\n",
      "SUM_Popula               int64\n",
      "SUM_White                int64\n",
      "SUM_Blk_Af               int64\n",
      "SUM_Hisp_L               int64\n",
      "SUM_Male                 int64\n",
      "Shape_Leng             float64\n",
      "Shape_Area             float64\n",
      "dtype: object\n",
      "1757 \n",
      "\n",
      "23218 313855\n"
     ]
    }
   ],
   "source": [
    "## Load crime workbook\n",
    "baltimore_crime_13_18_wb = opxl.load_workbook('/Users/salma/Research/papers/Baltimore_FreddieGray/data/Baltimore_Crime_Mapped_2013_2018.xlsx')\n",
    "crime_dfs = sheets_to_df(baltimore_crime_13_18_wb)"
   ]
  },
  {
   "cell_type": "code",
   "execution_count": 62,
   "id": "exclusive-european",
   "metadata": {
    "collapsed": true
   },
   "outputs": [
    {
     "name": "stdout",
     "output_type": "stream",
     "text": [
      "2\n",
      "LARCENY                 64276\n",
      "COMMON ASSAULT          47078\n",
      "BURGLARY                43611\n",
      "LARCENY FROM AUTO       37607\n",
      "AGG. ASSAULT            29919\n",
      "AUTO THEFT              28243\n",
      "ROBBERY - STREET        19742\n",
      "ROBBERY - COMMERCIAL     4893\n",
      "SHOOTING                 3456\n",
      "ROBBERY - RESIDENCE      3016\n",
      "ASSAULT BY THREAT        2317\n",
      "ROBBERY - CARJACKING     1988\n",
      "RAPE                     1794\n",
      "HOMICIDE                 1757\n",
      "ARSON                    1412\n",
      "Name: Description, dtype: int64\n"
     ]
    }
   ],
   "source": [
    "print(crime_dfs.__len__())\n",
    "\n",
    "print(crime_dfs[0]['Description'].value_counts())"
   ]
  },
  {
   "cell_type": "code",
   "execution_count": null,
   "id": "curious-solution",
   "metadata": {},
   "outputs": [],
   "source": []
  }
 ],
 "metadata": {
  "kernelspec": {
   "display_name": "misd_arrests_viol_crimes",
   "language": "python",
   "name": "misd_arrests_viol_crimes"
  },
  "language_info": {
   "codemirror_mode": {
    "name": "ipython",
    "version": 3
   },
   "file_extension": ".py",
   "mimetype": "text/x-python",
   "name": "python",
   "nbconvert_exporter": "python",
   "pygments_lexer": "ipython3",
   "version": "3.9.1"
  }
 },
 "nbformat": 4,
 "nbformat_minor": 5
}

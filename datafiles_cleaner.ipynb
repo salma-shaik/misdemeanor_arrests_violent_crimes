{
 "cells": [
  {
   "cell_type": "markdown",
   "id": "indian-appeal",
   "metadata": {},
   "source": [
    "### Load required packages"
   ]
  },
  {
   "cell_type": "code",
   "execution_count": 12,
   "id": "stainless-council",
   "metadata": {},
   "outputs": [],
   "source": [
    "import pandas as pd\n",
    "import numpy as np\n",
    "import openpyxl as opxl"
   ]
  },
  {
   "cell_type": "markdown",
   "id": "congressional-synthesis",
   "metadata": {},
   "source": [
    "#### Set pandas display options\n",
    "#### https://stackoverflow.com/questions/57860775/pandas-pd-options-display-max-rows-not-working-as-expected"
   ]
  },
  {
   "cell_type": "code",
   "execution_count": 33,
   "id": "completed-wilson",
   "metadata": {},
   "outputs": [],
   "source": [
    "pd.set_option('display.max_rows', 20)\n",
    "pd.set_option('display.min_rows', 20)"
   ]
  },
  {
   "cell_type": "code",
   "execution_count": 28,
   "id": "geographic-chemistry",
   "metadata": {},
   "outputs": [
    {
     "data": {
      "text/plain": [
       "1000"
      ]
     },
     "execution_count": 28,
     "metadata": {},
     "output_type": "execute_result"
    }
   ],
   "source": [
    "pd.get_option('display.max_rows')"
   ]
  },
  {
   "cell_type": "code",
   "execution_count": 29,
   "id": "falling-dallas",
   "metadata": {},
   "outputs": [
    {
     "data": {
      "text/plain": [
       "20"
      ]
     },
     "execution_count": 29,
     "metadata": {},
     "output_type": "execute_result"
    }
   ],
   "source": [
    "pd.get_option('display.min_rows')"
   ]
  },
  {
   "cell_type": "markdown",
   "id": "direct-freedom",
   "metadata": {},
   "source": [
    "### Load the xlsx datafiles using openpyxl"
   ]
  },
  {
   "cell_type": "code",
   "execution_count": 30,
   "id": "blank-mexico",
   "metadata": {},
   "outputs": [],
   "source": [
    "## Utility function to convert excel sheet to df; print intial stats\n",
    "def sheets_to_df(wb):\n",
    "    ## Get sheetnames\n",
    "    wb_sheetnames = wb.sheetnames\n",
    "\n",
    "    df_names=[]\n",
    "    df_list = []\n",
    "\n",
    "    ## Obtain all the sheetnames to name representative dfs\n",
    "    for sheetname in wb_sheetnames:\n",
    "        df_names.append(f'{sheetname}_df')\n",
    "\n",
    "    print(df_names)\n",
    "\n",
    "    for df, sheet in zip(df_names, wb_sheetnames):\n",
    "        ## Get the sheet data to be stored in a df\n",
    "        sheet_data = wb[sheet].values\n",
    "\n",
    "        ## Get the column names from the header\n",
    "        col_names = next(sheet_data)[0:]\n",
    "\n",
    "        ## Create the df with the data and columns\n",
    "        df = pd.DataFrame(data=sheet_data, columns = col_names)\n",
    "        df_list.append(df)\n",
    "        \n",
    "        print(df.dtypes)\n",
    "        print(df.shape[0], '\\n')\n",
    "        print(df['OBJECTID'].min(), df['OBJECTID'].max())\n",
    "        \n",
    "    return df_list\n",
    "        "
   ]
  },
  {
   "cell_type": "markdown",
   "id": "concerned-naples",
   "metadata": {},
   "source": [
    "#### Load arrests workbook"
   ]
  },
  {
   "cell_type": "code",
   "execution_count": 3,
   "id": "funny-hypothetical",
   "metadata": {
    "collapsed": true
   },
   "outputs": [
    {
     "name": "stdout",
     "output_type": "stream",
     "text": [
      "['Arrest_df', 'Murder_df']\n",
      "OBJECTID               int64\n",
      "year                   int64\n",
      "ArrestLoca            object\n",
      "IncidentLo            object\n",
      "ChargeDesc            object\n",
      "Neighborho            object\n",
      "Location_1            object\n",
      "Arrest                 int64\n",
      "Age                    int64\n",
      "Sex                   object\n",
      "Race                  object\n",
      "ArrestDate    datetime64[ns]\n",
      "ArrestTime            object\n",
      "IncidentOf            object\n",
      "Charge                object\n",
      "District              object\n",
      "Post                   int64\n",
      "Longitude            float64\n",
      "Latitude             float64\n",
      "FID_1                  int64\n",
      "OBJECTID_1             int64\n",
      "Area_New               int64\n",
      "SUM_Popula             int64\n",
      "SUM_White              int64\n",
      "SUM_Blk_Af             int64\n",
      "SUM_Hisp_L             int64\n",
      "SUM_Male               int64\n",
      "Shape_Leng           float64\n",
      "Shape_Area           float64\n",
      "dtype: object\n",
      "102514 \n",
      "\n",
      "1 102514\n",
      "OBJECTID               int64\n",
      "year                   int64\n",
      "ArrestLoca            object\n",
      "IncidentLo            object\n",
      "ChargeDesc            object\n",
      "Neighborho            object\n",
      "Location_1            object\n",
      "Arrest                 int64\n",
      "Age                    int64\n",
      "Sex                   object\n",
      "Race                  object\n",
      "ArrestDate    datetime64[ns]\n",
      "ArrestTime            object\n",
      "IncidentOf            object\n",
      "Charge                object\n",
      "District              object\n",
      "Post                   int64\n",
      "Longitude            float64\n",
      "Latitude             float64\n",
      "FID_1                  int64\n",
      "OBJECTID_1             int64\n",
      "Area_New               int64\n",
      "SUM_Popula             int64\n",
      "SUM_White              int64\n",
      "SUM_Blk_Af             int64\n",
      "SUM_Hisp_L             int64\n",
      "SUM_Male               int64\n",
      "Shape_Leng           float64\n",
      "Shape_Area           float64\n",
      "dtype: object\n",
      "97 \n",
      "\n",
      "792 101494\n"
     ]
    }
   ],
   "source": [
    "baltimore_arrests_13_18_wb = opxl.load_workbook('/Users/salma/Research/papers/Baltimore_FreddieGray/data/Baltimore_Arrests_Mapped_2013_2018.xlsx')\n",
    "arrests_df = sheets_to_df(baltimore_arrests_13_18_wb)"
   ]
  },
  {
   "cell_type": "code",
   "execution_count": 4,
   "id": "unnecessary-suggestion",
   "metadata": {},
   "outputs": [
    {
     "name": "stdout",
     "output_type": "stream",
     "text": [
      "2\n"
     ]
    }
   ],
   "source": [
    "## to check how many dfs were formed\n",
    "print(arrests_df.__len__())"
   ]
  },
  {
   "cell_type": "code",
   "execution_count": 31,
   "id": "tracked-assignment",
   "metadata": {
    "collapsed": true
   },
   "outputs": [
    {
     "name": "stdout",
     "output_type": "stream",
     "text": [
      "Cds:Possess-Not Marihuana || Cds Violation             5742\n",
      "CDS                                                    4082\n",
      "Unknown Charge                                         4049\n",
      "Cds:Possess-Not Marihuana || Cds                       3694\n",
      "CDS VIOLATION                                          3067\n",
      "Asslt-Sec Degree || Common Assault                     2742\n",
      "COMMON ASSAULT                                         1781\n",
      "Cds: Poss Marihuana L/T 10 G || Cds Violation          1594\n",
      "Asslt-Sec Degree || Assault                            1461\n",
      "Prostitution-General || Prostitution                   1405\n",
      "                                                       ... \n",
      "DISP HEROIN                                               1\n",
      "ATTEMPT 1ST DEGREE MURDER                                 1\n",
      "FIREARMS                                                  1\n",
      "Asslt-Sec Degree || 1St Degree                            1\n",
      "Cds: Possession-Marihuana || Cds Possesion Cocaine        1\n",
      "Cds:P W/I Dist:Narc || Possession Not Marijuana           1\n",
      "Att-Cds Manuf/Dist. || Pwid Suboxone                      1\n",
      "Motor Veh/Unlawful Taking || Theft Over 1000.00           1\n",
      "Cds: Possession-Marihuana || Poss W/I Marijuan            1\n",
      "Att-Burglary-Fourth Degree || Second Degree Assault       1\n",
      "Name: ChargeDesc, Length: 11795, dtype: int64\n"
     ]
    }
   ],
   "source": [
    "## Get the unique values of ChargeDesc, IncidentOf to see if they give info about arrest type\n",
    "## [0] since 1st sheet 'Arrests' has almost all of the records\n",
    "print(arrests_df[0]['ChargeDesc'].value_counts())"
   ]
  },
  {
   "cell_type": "code",
   "execution_count": 34,
   "id": "nearby-jacob",
   "metadata": {
    "collapsed": true
   },
   "outputs": [
    {
     "name": "stdout",
     "output_type": "stream",
     "text": [
      "Unknown Offense               44441\n",
      "87-Narcotics                  10962\n",
      "4E-Common Assault              5568\n",
      "87NARCOTICS                    5237\n",
      "4ECOMMON ASSAULT               3328\n",
      "87O-Narcotics (Outside)        2344\n",
      "6C-Larceny- Shoplifting        2027\n",
      "79-Other                       1739\n",
      "24-Towed Vehicle               1471\n",
      "97-Search & Seizure            1415\n",
      "                              ...  \n",
      "5D-Burg. Oth. (For                1\n",
      "107-Drunkenness                   1\n",
      "8COARSON STORAGE STR-OCC          1\n",
      "4A-Agg. Asslt.- Gu                1\n",
      "60VOVERDOSE                       1\n",
      "4F-Assault By Thre                1\n",
      "53VEHICLE DISTURBANCE             1\n",
      "71-Sex Offender Registry          1\n",
      "8EV-Arson Oth Comm Str-Vac        1\n",
      "41-Human Trafficking              1\n",
      "Name: IncidentOf, Length: 304, dtype: int64\n"
     ]
    }
   ],
   "source": [
    "print(arrests_df[0]['IncidentOf'].value_counts())"
   ]
  },
  {
   "cell_type": "markdown",
   "id": "welsh-observation",
   "metadata": {},
   "source": [
    "#### Load crime workbook"
   ]
  },
  {
   "cell_type": "code",
   "execution_count": 7,
   "id": "wired-blake",
   "metadata": {
    "collapsed": true
   },
   "outputs": [
    {
     "name": "stdout",
     "output_type": "stream",
     "text": [
      "['Crime_Mapped_df', 'Homicides_df']\n",
      "OBJECTID                 int64\n",
      "year                     int64\n",
      "location                object\n",
      "location_1              object\n",
      "District                object\n",
      "CrimeDate       datetime64[ns]\n",
      "CrimeTime               object\n",
      "CrimeCode               object\n",
      "Description             object\n",
      "Inside_Out              object\n",
      "Weapon                  object\n",
      "Post                     int64\n",
      "Neighborhood            object\n",
      "Longitude              float64\n",
      "Latitude               float64\n",
      "Premise                 object\n",
      "vri_name1               object\n",
      "Total_Inci               int64\n",
      "FID_1                    int64\n",
      "OBJECTID_1               int64\n",
      "Area_New                 int64\n",
      "SUM_Popula               int64\n",
      "SUM_White                int64\n",
      "SUM_Blk_Af               int64\n",
      "SUM_Hisp_L               int64\n",
      "SUM_Male                 int64\n",
      "Shape_Leng             float64\n",
      "Shape_Area             float64\n",
      "dtype: object\n",
      "291109 \n",
      "\n",
      "23121 314229\n",
      "OBJECTID                 int64\n",
      "year                     int64\n",
      "location                object\n",
      "location_1              object\n",
      "District                object\n",
      "CrimeDate       datetime64[ns]\n",
      "CrimeTime               object\n",
      "CrimeCode               object\n",
      "Description             object\n",
      "Inside_Out              object\n",
      "Weapon                  object\n",
      "Post                     int64\n",
      "Neighborhood            object\n",
      "Longitude              float64\n",
      "Latitude               float64\n",
      "Premise                 object\n",
      "vri_name1               object\n",
      "Total_Inci               int64\n",
      "FID_1                    int64\n",
      "OBJECTID_1               int64\n",
      "Area_New                 int64\n",
      "SUM_Popula               int64\n",
      "SUM_White                int64\n",
      "SUM_Blk_Af               int64\n",
      "SUM_Hisp_L               int64\n",
      "SUM_Male                 int64\n",
      "Shape_Leng             float64\n",
      "Shape_Area             float64\n",
      "dtype: object\n",
      "1757 \n",
      "\n",
      "23218 313855\n"
     ]
    }
   ],
   "source": [
    "baltimore_crime_13_18_wb = opxl.load_workbook('/Users/salma/Research/papers/Baltimore_FreddieGray/data/Baltimore_Crime_Mapped_2013_2018.xlsx')\n",
    "crime_dfs = sheets_to_df(baltimore_crime_13_18_wb)"
   ]
  },
  {
   "cell_type": "code",
   "execution_count": 36,
   "id": "exclusive-european",
   "metadata": {},
   "outputs": [
    {
     "name": "stdout",
     "output_type": "stream",
     "text": [
      "LARCENY                 64276\n",
      "COMMON ASSAULT          47078\n",
      "BURGLARY                43611\n",
      "LARCENY FROM AUTO       37607\n",
      "AGG. ASSAULT            29919\n",
      "AUTO THEFT              28243\n",
      "ROBBERY - STREET        19742\n",
      "ROBBERY - COMMERCIAL     4893\n",
      "SHOOTING                 3456\n",
      "ROBBERY - RESIDENCE      3016\n",
      "ASSAULT BY THREAT        2317\n",
      "ROBBERY - CARJACKING     1988\n",
      "RAPE                     1794\n",
      "HOMICIDE                 1757\n",
      "ARSON                    1412\n",
      "Name: Description, dtype: int64\n"
     ]
    }
   ],
   "source": [
    "print(crime_dfs[0]['Description'].value_counts())"
   ]
  },
  {
   "cell_type": "code",
   "execution_count": null,
   "id": "curious-solution",
   "metadata": {},
   "outputs": [],
   "source": []
  }
 ],
 "metadata": {
  "kernelspec": {
   "display_name": "misd_arrests_viol_crimes",
   "language": "python",
   "name": "misd_arrests_viol_crimes"
  },
  "language_info": {
   "codemirror_mode": {
    "name": "ipython",
    "version": 3
   },
   "file_extension": ".py",
   "mimetype": "text/x-python",
   "name": "python",
   "nbconvert_exporter": "python",
   "pygments_lexer": "ipython3",
   "version": "3.9.1"
  }
 },
 "nbformat": 4,
 "nbformat_minor": 5
}

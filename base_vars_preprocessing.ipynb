{
 "cells": [
  {
   "cell_type": "code",
   "execution_count": 179,
   "metadata": {},
   "outputs": [],
   "source": [
    "import pandas as pd\n",
    "import xlrd\n",
    "import matplotlib.pyplot as plt\n",
    "import numpy as np\n",
    "\n",
    "\n",
    "pd.set_option('display.max_columns', 500)\n",
    "pd.set_option('display.width', 5000)\n",
    "pd.set_option('display.max_rows', 1000)\n",
    "from IPython.display import display, HTML"
   ]
  },
  {
   "cell_type": "markdown",
   "metadata": {},
   "source": [
    "### Checking demeaned file"
   ]
  },
  {
   "cell_type": "code",
   "execution_count": 3,
   "metadata": {},
   "outputs": [],
   "source": [
    "misd_df = pd.io.stata.read_stata('/Users/salma/Research/papers/Baltimore_FreddieGray/data/Demeandata_final_index_groups.dta')\n",
    "misd_df.to_csv('/Users/salma/Research/papers/Baltimore_FreddieGray/data/baltimore_final_demeaned_all.csv', index=False)"
   ]
  },
  {
   "cell_type": "code",
   "execution_count": 4,
   "metadata": {
    "collapsed": true
   },
   "outputs": [
    {
     "name": "stdout",
     "output_type": "stream",
     "text": [
      "['AREA_NEW', 'pop_weight', 'larRP_base', 'burgRP_base', 'arsonRP_base', 'simasRP_base', 'autothefRP_base', 'aggassauRP_base', 'assbythreRP_base', 'robbRP_base', 'murdRP_base', 'shootRP_base', 'sexoffRP_base', 'YEAR', 'FAMOFFBF_COUNT', 'FAMOFFBM_COUNT', 'FAMOFFWF_COUNT', 'FAMOFFWM_COUNT', 'FAMOFFOF_COUNT', 'FAMOFFOM_COUNT', 'DRUGOFFBF_COUNT', 'DRUGOFFBM_COUNT', 'DRUGOFFWF_COUNT', 'DRUGOFFWM_COUNT', 'DRUGOFFOF_COUNT', 'DRUGOFFOM_COUNT', 'SEXOFFBF_COUNT', 'SEXOFFBM_COUNT', 'SEXOFFWF_COUNT', 'SEXOFFWM_COUNT', 'SEXOFFOF_COUNT', 'SEXOFFOM_COUNT', 'DISCONBF_COUNT', 'DISCONBM_COUNT', 'DISCONWF_COUNT', 'DISCONWM_COUNT', 'DISCONOF_COUNT', 'DISCONOM_COUNT', 'WARRBF_COUNT', 'WARRBM_COUNT', 'WARRWF_COUNT', 'WARRWM_COUNT', 'WARROF_COUNT', 'WARROM_COUNT', 'PROPDMBF_COUNT', 'PROPDMBM_COUNT', 'PROPDMWF_COUNT', 'PROPDMWM_COUNT', 'PROPDMOF_COUNT', 'PROPDMOM_COUNT', 'TRAFFBF_COUNT', 'TRAFFBM_COUNT', 'TRAFFWF_COUNT', 'TRAFFWM_COUNT', 'TRAFFOF_COUNT', 'TRAFFOM_COUNT', 'AGGASBF_COUNT', 'AGGASBM_COUNT', 'AGGASWF_COUNT', 'AGGASWM_COUNT', 'AGGASOF_COUNT', 'AGGASOM_COUNT', 'SIMASBF_COUNT', 'SIMASBM_COUNT', 'SIMASWF_COUNT', 'SIMASWM_COUNT', 'SIMASOF_COUNT', 'SIMASOM_COUNT', 'KIDNBF_COUNT', 'KIDNBM_COUNT', 'KIDNWF_COUNT', 'KIDNWM_COUNT', 'KIDNOF_COUNT', 'KIDNOM_COUNT', 'THEFRABF_COUNT', 'THEFRABM_COUNT', 'THEFRAWF_COUNT', 'THEFRAWM_COUNT', 'THEFRAOF_COUNT', 'THEFRAOM_COUNT', 'ATHEFBF_COUNT', 'ATHEFBM_COUNT', 'ATHEFWF_COUNT', 'ATHEFWM_COUNT', 'ATHEFOF_COUNT', 'ATHEFOM_COUNT', 'OTHERBF_COUNT', 'OTHERBM_COUNT', 'OTHERWF_COUNT', 'OTHERWM_COUNT', 'OTHEROF_COUNT', 'OTHEROM_COUNT', 'WEPOBF_COUNT', 'WEPOBM_COUNT', 'WEPOWF_COUNT', 'WEPOWM_COUNT', 'WEPOOF_COUNT', 'WEPOOM_COUNT', 'LARBF_COUNT', 'LARBM_COUNT', 'LARWF_COUNT', 'LARWM_COUNT', 'LAROF_COUNT', 'LAROM_COUNT', 'BURGBF_COUNT', 'BURGBM_COUNT', 'BURGWF_COUNT', 'BURGWM_COUNT', 'BURGOF_COUNT', 'BURGOM_COUNT', 'ROBBBF_COUNT', 'ROBBBM_COUNT', 'ROBBWF_COUNT', 'ROBBWM_COUNT', 'ROBBOF_COUNT', 'ROBBOM_COUNT', 'MURDBF_COUNT', 'MURDBM_COUNT', 'MURDWF_COUNT', 'MURDWM_COUNT', 'MURDOF_COUNT', 'MURDOM_COUNT', 'ARSONBF_COUNT', 'ARSONBM_COUNT', 'ARSONWF_COUNT', 'ARSONWM_COUNT', 'ARSONOF_COUNT', 'ARSONOM_COUNT', 'FAMOFF_AG1', 'FAMOFF_AG2', 'FAMOFF_AG3', 'FAMOFF_AG4', 'DRUGOFF_AG1', 'DRUGOFF_AG2', 'DRUGOFF_AG3', 'DRUGOFF_AG4', 'SEXOFF_AG1', 'SEXOFF_AG2', 'SEXOFF_AG3', 'SEXOFF_AG4', 'DISCONOFF_AG1', 'DISCONOFF_AG2', 'DISCONOFF_AG3', 'DISCONOFF_AG4', 'WARROFF_AG1', 'WARROFF_AG2', 'WARROFF_AG3', 'WARROFF_AG4', 'PROPDMOFF_AG1', 'PROPDMOFF_AG2', 'PROPDMOFF_AG3', 'PROPDMOFF_AG4', 'TRAFFOFF_AG1', 'TRAFFOFF_AG2', 'TRAFFOFF_AG3', 'TRAFFOFF_AG4', 'AGGASOFF_AG1', 'AGGASOFF_AG2', 'AGGASOFF_AG3', 'AGGASOFF_AG4', 'SIMASOFF_AG1', 'SIMASOFF_AG2', 'SIMASOFF_AG3', 'SIMASOFF_AG4', 'KIDNOFF_AG1', 'KIDNOFF_AG2', 'KIDNOFF_AG3', 'KIDNOFF_AG4', 'THEFOFF_AG1', 'THEFOFF_AG2', 'THEFOFF_AG3', 'THEFOFF_AG4', 'ATHEFOFF_AG1', 'ATHEFOFF_AG2', 'ATHEFOFF_AG3', 'ATHEFOFF_AG4', 'OTHEROFF_AG1', 'OTHEROFF_AG2', 'OTHEROFF_AG3', 'OTHEROFF_AG4', 'WEPOOFF_AG1', 'WEPOOFF_AG2', 'WEPOOFF_AG3', 'WEPOOFF_AG4', 'LAROFF_AG1', 'LAROFF_AG2', 'LAROFF_AG3', 'LAROFF_AG4', 'BURGOFF_AG1', 'BURGOFF_AG2', 'BURGOFF_AG3', 'BURGOFF_AG4', 'ROBBOFF_AG1', 'ROBBOFF_AG2', 'ROBBOFF_AG3', 'ROBBOFF_AG4', 'MURDOFF_AG1', 'MURDOFF_AG2', 'MURDOFF_AG3', 'MURDOFF_AG4', 'ARSONOFF_AG1', 'ARSONOFF_AG2', 'ARSONOFF_AG3', 'ARSONOFF_AG4', 'Sex', 'Race', 'offender_age', 'PER_CHANGE_FAMMBF', 'PER_CHANGE_FAMMBM', 'PER_CHANGE_FAMMWF', 'PER_CHANGE_FAMMWM', 'PER_CHANGE_FAMMOF', 'PER_CHANGE_FAMMOM', 'PER_CHANGE_DRUGBF', 'PER_CHANGE_DRUGBM', 'PER_CHANGE_DRUGWF', 'PER_CHANGE_DRUGWM', 'PER_CHANGE_DRUGOF', 'PER_CHANGE_DRUGOM', 'PER_CHANGE_SEXBF', 'PER_CHANGE_SEXBM', 'PER_CHANGE_SEXWF', 'PER_CHANGE_SEXWM', 'PER_CHANGE_SEXOF', 'PER_CHANGE_SEXOM', 'PER_CHANGE_WEPOBF', 'PER_CHANGE_WEPOBM', 'PER_CHANGE_WEPOWF', 'PER_CHANGE_WEPOWM', 'PER_CHANGE_WEPOOF', 'PER_CHANGE_WEPOOM', 'PER_CHANGE_WARRBF', 'PER_CHANGE_WARRBM', 'PER_CHANGE_WARRWF', 'PER_CHANGE_WARRWM', 'PER_CHANGE_WARROF', 'PER_CHANGE_WARROM', 'PER_CHANGE_TRAFFBF', 'PER_CHANGE_TRAFFBM', 'PER_CHANGE_TRAFFWF', 'PER_CHANGE_TRAFFWM', 'PER_CHANGE_TRAFFOF', 'PER_CHANGE_TRAFFOM', 'PER_CHANGE_PROPDMBF', 'PER_CHANGE_PROPDMBM', 'PER_CHANGE_PROPDMWF', 'PER_CHANGE_PROPDMWM', 'PER_CHANGE_PROPDMOF', 'PER_CHANGE_PROPDMOM', 'PER_CHANGE_AGGBF', 'PER_CHANGE_AGGBM', 'PER_CHANGE_AGGWF', 'PER_CHANGE_AGGWM', 'PER_CHANGE_AGGOF', 'PER_CHANGE_AGGOM', 'PER_CHANGE_SIMASBF', 'PER_CHANGE_SIMASBM', 'PER_CHANGE_SIMASWF', 'PER_CHANGE_SIMASWM', 'PER_CHANGE_SIMASOF', 'PER_CHANGE_SIMASOM', 'PER_CHANGE_KIDNBF', 'PER_CHANGE_KIDNBM', 'PER_CHANGE_KIDNWF', 'PER_CHANGE_KIDNWM', 'PER_CHANGE_KIDNOF', 'PER_CHANGE_KIDNOM', 'PER_CHANGE_LARBF', 'PER_CHANGE_LARBM', 'PER_CHANGE_LARWF', 'PER_CHANGE_LARWM', 'PER_CHANGE_LAROF', 'PER_CHANGE_LAROM', 'PER_CHANGE_BURGBF', 'PER_CHANGE_BURGBM', 'PER_CHANGE_BURGWF', 'PER_CHANGE_BURGWM', 'PER_CHANGE_BURGOF', 'PER_CHANGE_BURGOM', 'PER_CHANGE_ROBBBF', 'PER_CHANGE_ROBBBM', 'PER_CHANGE_ROBBWF', 'PER_CHANGE_ROBBWM', 'PER_CHANGE_ROBBOF', 'PER_CHANGE_ROBBOM', 'PER_CHANGE_MURDBF', 'PER_CHANGE_MURDBM', 'PER_CHANGE_MURDWF', 'PER_CHANGE_MURDWM', 'PER_CHANGE_MURDOF', 'PER_CHANGE_MURDOM', 'PER_CHANGE_ARSONBF', 'PER_CHANGE_ARSONBM', 'PER_CHANGE_ARSONWF', 'PER_CHANGE_ARSONWM', 'PER_CHANGE_ARSONOF', 'PER_CHANGE_ARSONOM', 'PER_CHANGEBF_OTHER', 'PER_CHANGEBM_OTHER', 'PER_CHANGEWF_OTHER', 'PER_CHANGEWM_OTHER', 'PER_CHANGEOF_OTHER', 'PER_CHANGEOM_OTHER', 'PER_CHANGE_ATHEFBF', 'PER_CHANGE_ATHEFBM', 'PER_CHANGE_ATHEFWF', 'PER_CHANGE_ATHEFWM', 'PER_CHANGE_ATHEFOF', 'PER_CHANGE_ATHEFOM', 'PER_CHANGE_THEFRABF', 'PER_CHANGE_THEFRABM', 'PER_CHANGE_THEFRAWF', 'PER_CHANGE_THEFRAWM', 'PER_CHANGE_THEFRAOF', 'PER_CHANGE_THEFRAOM', 'PER_CHANGE_DISCONBF', 'PER_CHANGE_DISCONBM', 'PER_CHANGE_DISCONWF', 'PER_CHANGE_DISCONWM', 'PER_CHANGE_DISCONOF', 'PER_CHANGE_DISCONOM', 'Total_male_pop', 'Tot_female_pop', 'Tot_white', 'Tot_AfAm', 'Tot_hisp', 'Tot_non_hisp', 'Med_inc_p12', 'Pop_Total', 'White_Pct', 'Black_Pct', 'Hispanic_Pct', 'Male_Pct', 'Female_Pct', 'young_MalePct', 'young_FemalePct', 'Never_Married_MalePct', 'Never_Married_FemPct', 'Married_MalePct', 'Married_FemalePct', 'Educ_HSGED_MalePct', 'Educ_HSGED_FemalePct', 'Educ_Bachelor_MalePct', 'Educ_Bachelor_FemalePct', 'Educ_Associat_MalePct', 'Educ_Associat_FemalePct', 'Median_income', 'FAMOFFBF_RATE', 'FAMOFFBM_RATE', 'FAMOFFWF_RATE', 'FAMOFFWM_RATE', 'FAMOFFOF_RATE', 'FAMOFFOM_RATE', 'DRUGBF_RATE', 'DRUGBM_RATE', 'DRUGWF_RATE', 'DRUGWM_RATE', 'DRUGOF_RATE', 'DRUGOM_RATE', 'SEXOFFBF_RATE', 'SEXOFFBM_RATE', 'SEXOFFWF_RATE', 'SEXOFFWM_RATE', 'SEXOFFOF_RATE', 'SEXOFFOM_RATE', 'WEPOBF_RATE', 'WEPOBM_RATE', 'WEPOWF_RATE', 'WEPOWM_RATE', 'WEPOOF_RATE', 'WEPOOM_RATE', 'WARRBF_RATE', 'WARRBM_RATE', 'WARRWF_RATE', 'WARRWM_RATE', 'WARROF_RATE', 'WARROM_RATE', 'TRAFFBF_RATE', 'TRAFFBM_RATE', 'TRAFFWF_RATE', 'TRAFFWM_RATE', 'TRAFFOF_RATE', 'TRAFFOM_RATE', 'AGGASBF_RATE', 'AGGASBM_RATE', 'AGGASWF_RATE', 'AGGASWM_RATE', 'AGGASOF_RATE', 'AGGASOM_RATE', 'SIMASBF_RATE', 'SIMASBM_RATE', 'SIMASWF_RATE', 'SIMASWM_RATE', 'SIMASOF_RATE', 'SIMASOM_RATE', 'KIDNBF_RATE', 'KIDNBM_RATE', 'KIDNWF_RATE', 'KIDNWM_RATE', 'KIDNOF_RATE', 'KIDNOM_RATE', 'LARBF_RATE', 'LARBM_RATE', 'LARWF_RATE', 'LARWM_RATE', 'LAROF_RATE', 'LAROM_RATE', 'BURGBF_RATE', 'BURGBM_RATE', 'BURGWF_RATE', 'BURGWM_RATE', 'BURGOF_RATE', 'BURGOM_RATE', 'ROBBBF_RATE', 'ROBBBM_RATE', 'ROBBWF_RATE', 'ROBBWM_RATE', 'ROBBOF_RATE', 'ROBBOM_RATE', 'MURDBF_RATE', 'MURDBM_RATE', 'MURDWF_RATE', 'MURDWM_RATE', 'MURDOF_RATE', 'MURDOM_RATE', 'ARSONBF_RATE', 'ARSONBM_RATE', 'ARSONWF_RATE', 'ARSONWM_RATE', 'ARSONOF_RATE', 'ARSONOM_RATE', 'OTHERBF_RATE', 'OTHERBM_RATE', 'OTHERWF_RATE', 'OTHERWM_RATE', 'OTHEROF_RATE', 'OTHEROM_RATE', 'ATHEFBF_RATE', 'ATHEFBM_RATE', 'ATHEFWF_RATE', 'ATHEFWM_RATE', 'ATHEFOF_RATE', 'ATHEFOM_RATE', 'THEFRABF_RATE', 'THEFRABM_RATE', 'THEFRAWF_RATE', 'THEFRAWM_RATE', 'THEFRAOF_RATE', 'THEFRAOM_RATE', 'DISCONBF_RATE', 'DISCONBM_RATE', 'DISCONWF_RATE', 'DISCONWM_RATE', 'DISCONOF_RATE', 'DISCONOM_RATE', 'PER_BLACK', 'PER_WHITE', 'PER_HISPANIC', 'Other', 'FAMOFF_AG1_RATE', 'FAMOFF_AG2_RATE', 'FAMOFF_AG3_RATE', 'FAMOFF_AG4_RATE', 'DRUGOFF_AG1_RATE', 'DRUGOFF_AG2_RATE', 'DRUGOFF_AG3_RATE', 'DRUGOFF_AG4_RATE', 'SEXOFF_AG1_RATE', 'SEXOFF_AG2_RATE', 'SEXOFF_AG3_RATE', 'SEXOFF_AG4_RATE', 'DISCONOFF_AG1_RATE', 'DISCONOFF_AG2_RATE', 'DISCONOFF_AG3_RATE', 'DISCONOFF_AG4_RATE', 'WARROFF_AG1_RATE', 'WARROFF_AG2_RATE', 'WARROFF_AG3_RATE', 'WARROFF_AG4_RATE', 'PROPDMOFF_AG1_RATE', 'PROPDMOFF_AG2_RATE', 'PROPDMOFF_AG3_RATE', 'PROPDMOFF_AG4_RATE', 'TRAFFOFF_AG1_RATE', 'TRAFFOFF_AG2_RATE', 'TRAFFOFF_AG3_RATE', 'TRAFFOFF_AG4_RATE', 'AGGASOFF_AG1_RATE', 'AGGASOFF_AG2_RATE', 'AGGASOFF_AG3_RATE', 'AGGASOFF_AG4_RATE', 'SIMASOFF_AG1_RATE', 'SIMASOFF_AG2_RATE', 'SIMASOFF_AG3_RATE', 'SIMASOFF_AG4_RATE', 'KIDNOFF_AG1_RATE', 'KIDNOFF_AG2_RATE', 'KIDNOFF_AG3_RATE', 'KIDNOFF_AG4_RATE', 'THEFOFF_AG1_RATE', 'THEFOFF_AG2_RATE', 'THEFOFF_AG3_RATE', 'THEFOFF_AG4_RATE', 'ATHEFOFF_AG1_RATE', 'ATHEFOFF_AG2_RATE', 'ATHEFOFF_AG3_RATE', 'ATHEFOFF_AG4_RATE', 'OTHEROFF_AG1_RATE', 'OTHEROFF_AG2_RATE', 'OTHEROFF_AG3_RATE', 'OTHEROFF_AG4_RATE', 'WEPOOFF_AG1_RATE', 'WEPOOFF_AG2_RATE', 'WEPOOFF_AG3_RATE', 'WEPOOFF_AG4_RATE', 'LAROFF_AG1_RATE', 'LAROFF_AG2_RATE', 'LAROFF_AG3_RATE', 'LAROFF_AG4_RATE', 'BURGOFF_AG1_RATE', 'BURGOFF_AG2_RATE', 'BURGOFF_AG3_RATE', 'BURGOFF_AG4_RATE', 'ROBBOFF_AG1_RATE', 'ROBBOFF_AG2_RATE', 'ROBBOFF_AG3_RATE', 'ROBBOFF_AG4_RATE', 'MURDOFF_AG1_RATE', 'MURDOFF_AG2_RATE', 'MURDOFF_AG3_RATE', 'MURDOFF_AG4_RATE', 'ARSONOFF_AG1_RATE', 'ARSONOFF_AG2_RATE', 'ARSONOFF_AG3_RATE', 'ARSONOFF_AG4_RATE', 'PER_MALE', 'TOT_OFFENSE_COUNT', 'policy_var', 'TOT_OFF_RATE', 'larRP_count', 'burgRP_count', 'arsonRP_count', 'simasRP_count', 'autothefRP_count', 'aggassauRP_count', 'assbythreRP_count', 'robbRP_count', 'murdRP_count', 'shootRP_count', 'sexoffRP_count', 'Post', 'larRP_rate', 'burgRP_rate', 'arsonRP_rate', 'simasRP_rate', 'autothefRP_rate', 'aggassauRP_rate', 'assbythreRP_rate', 'robbRP_rate', 'murdRP_rate', 'shootRP_rate', 'sexoffRP_rate', 'per_change_larRP', 'per_change_burgRP', 'per_change_arsonRP', 'per_change_simasRP', 'per_change_autothefRP', 'per_change_aggassauRP', 'per_change_assbythreRP', 'per_change_robbRP', 'per_change_murdRP', 'per_change_shootRP', 'per_change_sexoffRP', 'drug_ar_tot', 'famoff_ar_tot', 'sexoff_ar_tot', 'warroff_ar_tot', 'wepon_ar_tot', 'traff_of_tot', 'agg_ass_tot', 'discon_tot', 'simas_tot', 'kid_tot', 'lar_tot', 'burg_tot', 'robb_tot', 'murd_tot', 'arson_tot', 'assbythr_tot', 'policy_pas', 'drugtot_rate', 'famtot_rate', 'sextot_rate', 'warrtot_rate', 'wepontot_rate', 'trafftot_rate', 'aggasstot_rate', 'discontot_rate', 'simastot_rate', 'kidtot_rate', 'lartot_rate', 'burgtot_rate', 'robbtot_rate', 'murdtot_rate', 'arsontot_rate', 'assbythrtot_rate', 'viocr_index', 'prop_index', 'bseduc_disadv', 'mar_male_disadv', 'Income_disadv', 'disadv_index', 'violent_crime', 'property_crime', 'groupDI', 'age_group']\n"
     ]
    }
   ],
   "source": [
    "print(list(misd_df))"
   ]
  },
  {
   "cell_type": "markdown",
   "metadata": {},
   "source": [
    "#### Had data only till 2016 - asked Ginni for file till 2018"
   ]
  },
  {
   "cell_type": "markdown",
   "metadata": {},
   "source": [
    "### Obtain base vars from baltimore_final_rates_counts file"
   ]
  },
  {
   "cell_type": "code",
   "execution_count": 87,
   "metadata": {
    "collapsed": true
   },
   "outputs": [
    {
     "name": "stdout",
     "output_type": "stream",
     "text": [
      "['AREA_NEW', 'viocr_index', 'prop_index', 'bseduc_disadv', 'mar_male_disadv', 'Income_disadv', 'disadv_index', 'violent_crime', 'property_crime', 'pop_weight', 'larRP_base', 'burgRP_base', 'arsonRP_base', 'simasRP_base', 'autothefRP_base', 'aggassauRP_base', 'assbythreRP_base', 'robbRP_base', 'murdRP_base', 'shootRP_base', 'sexoffRP_base', 'YEAR', 'BM_COUNT', 'BF_COUNT', 'WM_COUNT', 'WF_COUNT', 'OM_COUNT', 'OF_COUNT', 'FAMOFFBF_COUNT', 'FAMOFFBM_COUNT', 'FAMOFFWF_COUNT', 'FAMOFFWM_COUNT', 'FAMOFFOF_COUNT', 'FAMOFFOM_COUNT', 'DRUGOFFBF_COUNT', 'DRUGOFFBM_COUNT', 'DRUGOFFWF_COUNT', 'DRUGOFFWM_COUNT', 'DRUGOFFOF_COUNT', 'DRUGOFFOM_COUNT', 'SEXOFFBF_COUNT', 'SEXOFFBM_COUNT', 'SEXOFFWF_COUNT', 'SEXOFFWM_COUNT', 'SEXOFFOF_COUNT', 'SEXOFFOM_COUNT', 'DISCONBF_COUNT', 'DISCONBM_COUNT', 'DISCONWF_COUNT', 'DISCONWM_COUNT', 'DISCONOF_COUNT', 'DISCONOM_COUNT', 'WARRBF_COUNT', 'WARRBM_COUNT', 'WARRWF_COUNT', 'WARRWM_COUNT', 'WARROF_COUNT', 'WARROM_COUNT', 'PROPDMBF_COUNT', 'PROPDMBM_COUNT', 'PROPDMWF_COUNT', 'PROPDMWM_COUNT', 'PROPDMOF_COUNT', 'PROPDMOM_COUNT', 'TRAFFBF_COUNT', 'TRAFFBM_COUNT', 'TRAFFWF_COUNT', 'TRAFFWM_COUNT', 'TRAFFOF_COUNT', 'TRAFFOM_COUNT', 'AGGASBF_COUNT', 'AGGASBM_COUNT', 'AGGASWF_COUNT', 'AGGASWM_COUNT', 'AGGASOF_COUNT', 'AGGASOM_COUNT', 'SIMASBF_COUNT', 'SIMASBM_COUNT', 'SIMASWF_COUNT', 'SIMASWM_COUNT', 'SIMASOF_COUNT', 'SIMASOM_COUNT', 'KIDNBF_COUNT', 'KIDNBM_COUNT', 'KIDNWF_COUNT', 'KIDNWM_COUNT', 'KIDNOF_COUNT', 'KIDNOM_COUNT', 'THEFRABF_COUNT', 'THEFRABM_COUNT', 'THEFRAWF_COUNT', 'THEFRAWM_COUNT', 'THEFRAOF_COUNT', 'THEFRAOM_COUNT', 'ATHEFBF_COUNT', 'ATHEFBM_COUNT', 'ATHEFWF_COUNT', 'ATHEFWM_COUNT', 'ATHEFOF_COUNT', 'ATHEFOM_COUNT', 'OTHERBF_COUNT', 'OTHERBM_COUNT', 'OTHERWF_COUNT', 'OTHERWM_COUNT', 'OTHEROF_COUNT', 'OTHEROM_COUNT', 'WEPOBF_COUNT', 'WEPOBM_COUNT', 'WEPOWF_COUNT', 'WEPOWM_COUNT', 'WEPOOF_COUNT', 'WEPOOM_COUNT', 'LARBF_COUNT', 'LARBM_COUNT', 'LARWF_COUNT', 'LARWM_COUNT', 'LAROF_COUNT', 'LAROM_COUNT', 'BURGBF_COUNT', 'BURGBM_COUNT', 'BURGWF_COUNT', 'BURGWM_COUNT', 'BURGOF_COUNT', 'BURGOM_COUNT', 'ROBBBF_COUNT', 'ROBBBM_COUNT', 'ROBBWF_COUNT', 'ROBBWM_COUNT', 'ROBBOF_COUNT', 'ROBBOM_COUNT', 'MURDBF_COUNT', 'MURDBM_COUNT', 'MURDWF_COUNT', 'MURDWM_COUNT', 'MURDOF_COUNT', 'MURDOM_COUNT', 'ARSONBF_COUNT', 'ARSONBM_COUNT', 'ARSONWF_COUNT', 'ARSONWM_COUNT', 'ARSONOF_COUNT', 'ARSONOM_COUNT', 'FamOff_Count', 'FamOff_Count_age1', 'FamOff_Count_age2', 'FamOff_Count_age3', 'FamOff_Count_age4', 'DrugOff_Count', 'DrugOff_Count_age1', 'DrugOff_Count_age2', 'DrugOff_Count_age3', 'DrugOff_Count_age4', 'SexOff_Count', 'SexOff_Count_age1', 'SexOff_Count_age2', 'SexOff_Count_age3', 'SexOff_Count_age4', 'Disorderly_Count', 'Disorderly_Count_age1', 'Disorderly_Count_age2', 'Disorderly_Count_age3', 'Disorderly_Count_age4', 'Warrant_Count', 'Warrant_Count_age1', 'Warrant_Count_age2', 'Warrant_Count_age3', 'Warrant_Count_age4', 'PropertyDmg_Count', 'PropertyDmg_Count_age1', 'PropertyDmg_Count_age2', 'PropertyDmg_Count_age3', 'PropertyDmg_Count_age4', 'Traffic_Count', 'Traffic_Count_age1', 'Traffic_Count_age2', 'Traffic_Count_age3', 'Traffic_Count_age4', 'AggAss_Count', 'AggAss_Count_age1', 'AggAss_Count_age2', 'AggAss_Count_age3', 'AggAss_Count_age4', 'SimpAss_Count', 'SimpAss_Count_age1', 'SimpAss_Count_age2', 'SimpAss_Count_age3', 'SimpAss_Count_age4', 'Kidnap_Count', 'Kidnap_Count_age1', 'Kidnap_Count_age2', 'Kidnap_Count_age3', 'Kidnap_Count_age4', 'TheftFraud_Count', 'TheftFraud_Count_age1', 'TheftFraud_Count_age2', 'TheftFraud_Count_age3', 'TheftFraud_Count_age4', 'AutoTheft_Count', 'AutoTheft_Count_age1', 'AutoTheft_Count_age2', 'AutoTheft_Count_age3', 'AutoTheft_Count_age4', 'Other_Count', 'Other_Count_age1', 'Other_Count_age2', 'Other_Count_age3', 'Other_Count_age4', 'Weapon_Count', 'Weapon_Count_age1', 'Weapon_Count_age2', 'Weapon_Count_age3', 'Weapon_Count_age4', 'Larceny_Count', 'Larceny_Count_age1', 'Larceny_Count_age2', 'Larceny_Count_age3', 'Larceny_Count_age4', 'Burglary_Count', 'Burglary_Count_age1', 'Burglary_Count_age2', 'Burglary_Count_age3', 'Burglary_Count_age4', 'Robbery_Count', 'Robbery_Count_age1', 'Robbery_Count_age2', 'Robbery_Count_age3', 'Robbery_Count_age4', 'Murder_Count', 'Murder_Count_age1', 'Murder_Count_age2', 'Murder_Count_age3', 'Murder_Count_age4', 'Arson_Count', 'Arson_Count_age1', 'Arson_Count_age2', 'Arson_Count_age3', 'Arson_Count_age4', 'age1_total', 'age2_total', 'age3_total', 'age4_total', 'incidentoffense', 'offense_new', 'offense_new2', 'OBJECTID', 'Neighborho', 'Arrest', 'Age', 'Sex', 'Race', 'ArrestDate', 'ArrestTime', 'Charge', 'District', 'Post', 'FID_1', 'OBJECTID_1', 'SUM_Popula', 'SUM_White', 'SUM_Blk_Af', 'SUM_Hisp_L', 'SUM_Male', 'Shape_Leng', 'ChargeDescription', 'IncidentLocation', 'ArrestLocation', 'OFFENSE_NEW1', 'offender_age', 'Nieghborhood', 'AuthoTheft_Count', 'area_count', 'Total_male_pop', 'Tot_female_pop', 'White', 'Black_AfAm', 'Hispanic', 'Tot_non_hisp', 'Med_inc_p12', 'Pop_Total', 'White_Pct', 'Black_Pct', 'Hispanic_Pct', 'Male_Pct', 'Female_Pct', 'young_MalePct', 'young_FemalePct', 'Never_Married_MalePct', 'Never_Married_FemPct', 'Married_MalePct', 'Married_Intact_MalePct', 'Married_Intact_FemPct', 'Married_FemalePct', 'Married_Alone_MalePct', 'Married_Alone_FemPct', 'Female_age25_older', 'Female_age15_to24', 'male_age25_older', 'male_age15_to24', 'age16_oldemp', 'age16_oldemp_Male', 'age16_oldemp_Female', 'Age15_Older', 'Age15_Older_male', 'Age15_Older_Female', 'Age_Median_Male', 'Age_Median_Female', 'Income_med12mo_houshld', 'Income_med12mo_family', 'Income_12mo_houshld', 'Educ_HSGED_MalePct', 'Educ_HSGED_FemalePct', 'Educ_Bachelor_MalePct', 'Educ_Bachelor_FemalePct', 'Educ_Associat_MalePct', 'Educ_Associat_FemalePct', 'Tenure_Housing_Rent', 'Tenure_Housing_Owner', 'Tenure_Housing_All', 'Housing_Vacant', 'Housing_Total', 'Housing_Occupied', 'Houshld_WhitePct', 'Houshld_BlackPct', 'FAMOFFBF_RATE', 'FAMOFFBM_RATE', 'FAMOFFWF_RATE', 'FAMOFFWM_RATE', 'FAMOFFOF_RATE', 'FAMOFFOM_RATE', 'DRUGBF_RATE', 'DRUGBM_RATE', 'DRUGWF_RATE', 'DRUGWM_RATE', 'DRUGOF_RATE', 'DRUGOM_RATE', 'SEXOFFBF_RATE', 'SEXOFFBM_RATE', 'SEXOFFWF_RATE', 'SEXOFFWM_RATE', 'SEXOFFOF_RATE', 'SEXOFFOM_RATE', 'WEPOBF_RATE', 'WEPOBM_RATE', 'WEPOWF_RATE', 'WEPOWM_RATE', 'WEPOOF_RATE', 'WEPOOM_RATE', 'WARRBF_RATE', 'WARRBM_RATE', 'WARRWF_RATE', 'WARRWM_RATE', 'WARROF_RATE', 'WARROM_RATE', 'TRAFFBF_RATE', 'TRAFFBM_RATE', 'TRAFFWF_RATE', 'TRAFFWM_RATE', 'TRAFFOF_RATE', 'TRAFFOM_RATE', 'AGGASBF_RATE', 'AGGASBM_RATE', 'AGGASWF_RATE', 'AGGASWM_RATE', 'AGGASOF_RATE', 'AGGASOM_RATE', 'SIMASBF_RATE', 'SIMASBM_RATE', 'SIMASWF_RATE', 'SIMASWM_RATE', 'SIMASOF_RATE', 'SIMASOM_RATE', 'KIDNBF_RATE', 'KIDNBM_RATE', 'KIDNWF_RATE', 'KIDNWM_RATE', 'KIDNOF_RATE', 'KIDNOM_RATE', 'LARBF_RATE', 'LARBM_RATE', 'LARWF_RATE', 'LARWM_RATE', 'LAROF_RATE', 'LAROM_RATE', 'BURGBF_RATE', 'BURGBM_RATE', 'BURGWF_RATE', 'BURGWM_RATE', 'BURGOF_RATE', 'BURGOM_RATE', 'ROBBBF_RATE', 'ROBBBM_RATE', 'ROBBWF_RATE', 'ROBBWM_RATE', 'ROBBOF_RATE', 'ROBBOM_RATE', 'MURDBF_RATE', 'MURDBM_RATE', 'MURDWF_RATE', 'MURDWM_RATE', 'MURDOF_RATE', 'MURDOM_RATE', 'ARSONBF_RATE', 'ARSONBM_RATE', 'ARSONWF_RATE', 'ARSONWM_RATE', 'ARSONOF_RATE', 'ARSONOM_RATE', 'OTHERBF_RATE', 'OTHERBM_RATE', 'OTHERWF_RATE', 'OTHERWM_RATE', 'OTHEROF_RATE', 'OTHEROM_RATE', 'ATHEFBF_RATE', 'ATHEFBM_RATE', 'ATHEFWF_RATE', 'ATHEFWM_RATE', 'ATHEFOF_RATE', 'ATHEFOM_RATE', 'THEFRABF_RATE', 'THEFRABM_RATE', 'THEFRAWF_RATE', 'THEFRAWM_RATE', 'THEFRAOF_RATE', 'THEFRAOM_RATE', 'DISCONBF_RATE', 'DISCONBM_RATE', 'DISCONWF_RATE', 'DISCONWM_RATE', 'DISCONOF_RATE', 'DISCONOM_RATE', 'PER_YOUNG_AGE', 'PER_BLACK', 'PER_WHITE', 'PER_HISPANIC', 'young_age', 'Other', 'drugtot_rate', 'famtot_rate', 'sextot_rate', 'warrtot_rate', 'wepontot_rate', 'trafftot_rate', 'aggasstot_rate', 'discontot_rate', 'simastot_rate', 'kidtot_rate', 'lartot_rate', 'burgtot_rate', 'robbtot_rate', 'murdtot_rate', 'arsontot_rate', 'autothefttot_rate', 'PER_MALE', 'TOT_OFFENSE_COUNT', 'policy_var', 'TOT_OFF_RATE', 'larRP_count', 'burgRP_count', 'arsonRP_count', 'simasRP_count', 'autothefRP_count', 'aggassauRP_count', 'assbythreRP_count', 'robbRP_count', 'murdRP_count', 'shootRP_count', 'sexoffRP_count', 'CrimeDate', 'CrimeTime', 'CrimeCode', 'Description', 'Neighborhood', 'Total_Inci', 'Description_new', 'larRP_rate', 'burgRP_rate', 'arsonRP_rate', 'simasRP_rate', 'autothefRP_rate', 'aggassauRP_rate', 'assbythreRP_rate', 'robbRP_rate', 'murdRP_rate', 'shootRP_rate', 'sexoffRP_rate', 'per_change_larRP', 'per_change_burgRP', 'per_change_arsonRP', 'per_change_simasRP', 'per_change_autothefRP', 'per_change_aggassauRP', 'per_change_assbythreRP', 'per_change_robbRP', 'per_change_murdRP', 'per_change_shootRP', 'per_change_sexoffRP', 'policy_pas', 'merge_dummy', 'larRP_basemedian', 'burgRP_basemedian', 'arsonRP_basemedian', 'simasRP_basemedian', 'autothefRP_basemedian', 'aggassauRP_basemedian', 'assbythreRP_basemedian', 'robbRP_basemedian', 'murdRP_basemedian', 'shootRP_basemedian', 'sexoffRP_basemedian', 'larRP_rate_level', 'burgRP_level', 'arsonRP_level', 'simasRP_level', 'autothefRP_level', 'aggassauRP_level', 'assbythreRP_level', 'robbRP_level', 'murdRP_level', 'shootRP_level', 'sexoffRP_level', 'larRP_level', 'per_change_larRP_median', 'per_change_burgRP_median', 'per_change_arsonRP_median', 'per_change_simasRP_median', 'per_change_autothefRP_median', 'per_change_aggassauRP_median', 'per_change_assbythreRP_median', 'per_change_robbRP_median', 'per_change_murdRP_median', 'per_change_shootRP_median', 'per_change_sexoffRP_median', 'larRP_rate_trend', 'burgRP_trend', 'arsonRP_trend', 'simasRP_trend', 'autothefRP_trend', 'aggassauRP_trend', 'assbythreRP_trend', 'robbRP_trend', 'murdRP_trend', 'shootRP_trend', 'sexoffRP_trend', 'larRP_trend', 'groupDI']\n"
     ]
    }
   ],
   "source": [
    "final_rates_counts = pd.read_excel('/Users/salma/Research/papers/Baltimore_FreddieGray/data/baltimore_final_rates_counts.xlsx', sheet_name='baltimore_final_rates_counts')\n",
    "print(list(final_rates_counts))"
   ]
  },
  {
   "cell_type": "code",
   "execution_count": 88,
   "metadata": {},
   "outputs": [],
   "source": [
    "final_rates_counts_req = final_rates_counts.loc[:, ['AREA_NEW', 'Nieghborhood', 'Neighborhood', 'Description_new', 'YEAR', \n",
    "                                                    'bseduc_disadv', 'mar_male_disadv', 'Income_disadv', \n",
    "                                                    'disadv_index', 'groupDI', 'BM_COUNT', 'BF_COUNT', 'WM_COUNT', \n",
    "                                                    'WF_COUNT', 'OM_COUNT', 'OF_COUNT', 'Total_male_pop', \n",
    "                                                    'Tot_female_pop', 'White', 'Black_AfAm', 'Pop_Total', \n",
    "                                                    'age1_total', 'age2_total', 'age3_total', 'age4_total', \n",
    "                                                    'Female_age25_older', 'Female_age15_to24', 'male_age25_older', \n",
    "                                                    'male_age15_to24', 'age16_oldemp', 'age16_oldemp_Male', \n",
    "                                                    'age16_oldemp_Female', 'Age15_Older', 'Age15_Older_male', \n",
    "                                                    'Age15_Older_Female', 'DRUGOFFBF_COUNT', 'DRUGOFFBM_COUNT', \n",
    "                                                    'DRUGOFFWF_COUNT', 'DRUGOFFWM_COUNT', 'DRUGOFFOF_COUNT', \n",
    "                                                    'DRUGOFFOM_COUNT', 'DrugOff_Count', 'DrugOff_Count_age1', \n",
    "                                                    'DrugOff_Count_age2', 'DrugOff_Count_age3', 'DrugOff_Count_age4', \n",
    "                                                    'DISCONBF_COUNT', 'DISCONBM_COUNT', 'DISCONWF_COUNT', \n",
    "                                                    'DISCONWM_COUNT', 'DISCONOF_COUNT', 'DISCONOM_COUNT', \n",
    "                                                    'Disorderly_Count', 'Disorderly_Count_age1', \n",
    "                                                    'Disorderly_Count_age2', 'Disorderly_Count_age3', \n",
    "                                                    'Disorderly_Count_age4', 'TRAFFBF_COUNT', 'TRAFFBM_COUNT', \n",
    "                                                    'TRAFFWF_COUNT', 'TRAFFWM_COUNT', 'TRAFFOF_COUNT', \n",
    "                                                    'TRAFFOM_COUNT', 'Traffic_Count', 'Traffic_Count_age1', \n",
    "                                                    'Traffic_Count_age2', 'Traffic_Count_age3', 'Traffic_Count_age4',\n",
    "                                                    'policy_var', 'simasRP_count', 'aggassauRP_count', 'robbRP_count', \n",
    "                                                    'murdRP_count', 'shootRP_count']]"
   ]
  },
  {
   "cell_type": "code",
   "execution_count": 89,
   "metadata": {
    "collapsed": true
   },
   "outputs": [
    {
     "name": "stdout",
     "output_type": "stream",
     "text": [
      "['AREA_NEW', 'Nieghborhood', 'Neighborhood', 'Description_new', 'YEAR', 'bseduc_disadv', 'mar_male_disadv', 'Income_disadv', 'disadv_index', 'groupDI', 'BM_COUNT', 'BF_COUNT', 'WM_COUNT', 'WF_COUNT', 'OM_COUNT', 'OF_COUNT', 'Total_male_pop', 'Tot_female_pop', 'White', 'Black_AfAm', 'Pop_Total', 'age1_total', 'age2_total', 'age3_total', 'age4_total', 'Female_age25_older', 'Female_age15_to24', 'male_age25_older', 'male_age15_to24', 'age16_oldemp', 'age16_oldemp_Male', 'age16_oldemp_Female', 'Age15_Older', 'Age15_Older_male', 'Age15_Older_Female', 'DRUGOFFBF_COUNT', 'DRUGOFFBM_COUNT', 'DRUGOFFWF_COUNT', 'DRUGOFFWM_COUNT', 'DRUGOFFOF_COUNT', 'DRUGOFFOM_COUNT', 'DrugOff_Count', 'DrugOff_Count_age1', 'DrugOff_Count_age2', 'DrugOff_Count_age3', 'DrugOff_Count_age4', 'DISCONBF_COUNT', 'DISCONBM_COUNT', 'DISCONWF_COUNT', 'DISCONWM_COUNT', 'DISCONOF_COUNT', 'DISCONOM_COUNT', 'Disorderly_Count', 'Disorderly_Count_age1', 'Disorderly_Count_age2', 'Disorderly_Count_age3', 'Disorderly_Count_age4', 'TRAFFBF_COUNT', 'TRAFFBM_COUNT', 'TRAFFWF_COUNT', 'TRAFFWM_COUNT', 'TRAFFOF_COUNT', 'TRAFFOM_COUNT', 'Traffic_Count', 'Traffic_Count_age1', 'Traffic_Count_age2', 'Traffic_Count_age3', 'Traffic_Count_age4', 'policy_var', 'simasRP_count', 'aggassauRP_count', 'robbRP_count', 'murdRP_count', 'shootRP_count']\n"
     ]
    }
   ],
   "source": [
    "print(list(final_rates_counts_req))"
   ]
  },
  {
   "cell_type": "code",
   "execution_count": 90,
   "metadata": {
    "collapsed": true
   },
   "outputs": [
    {
     "data": {
      "text/plain": [
       "AREA_NEW\n",
       "11     6\n",
       "12     6\n",
       "13     6\n",
       "14     6\n",
       "21     6\n",
       "22     6\n",
       "23     6\n",
       "24     6\n",
       "31     6\n",
       "32     6\n",
       "33     6\n",
       "34     6\n",
       "41     6\n",
       "42     6\n",
       "43     6\n",
       "44     6\n",
       "51     6\n",
       "52     6\n",
       "53     6\n",
       "54     6\n",
       "61     6\n",
       "62     6\n",
       "63     6\n",
       "64     6\n",
       "71     6\n",
       "72     6\n",
       "73     6\n",
       "81     6\n",
       "82     6\n",
       "83     6\n",
       "84     6\n",
       "91     6\n",
       "92     6\n",
       "93     6\n",
       "94     6\n",
       "232    6\n",
       "423    6\n",
       "432    6\n",
       "444    6\n",
       "512    6\n",
       "743    6\n",
       "913    6\n",
       "922    6\n",
       "Name: YEAR, dtype: int64"
      ]
     },
     "execution_count": 90,
     "metadata": {},
     "output_type": "execute_result"
    }
   ],
   "source": [
    "final_rates_counts_req.groupby('AREA_NEW')['YEAR'].count() # All areas have records for 6 years"
   ]
  },
  {
   "cell_type": "markdown",
   "metadata": {},
   "source": [
    "### Rename column names to be more representative and self explanatory"
   ]
  },
  {
   "cell_type": "code",
   "execution_count": 91,
   "metadata": {},
   "outputs": [],
   "source": [
    "final_rates_counts_req.rename(columns={'AREA_NEW': 'area', 'YEAR': 'year', \n",
    "                                       \n",
    "                                       'bseduc_disadv': 'bach_educ_disadv','Income_disadv': 'inc_disadv', \n",
    "                                       'disadv_index': 'overall_disadv_idx','groupDI': 'overall_disadv_idx_group', \n",
    "                                       \n",
    "                                       'Pop_Total': 'total_pop', 'Total_male_pop': 'male_pop','Tot_female_pop': 'fem_pop', \n",
    "                                       \n",
    "                                       'age1_total': 'under15_pop', 'age2_total': 'betwn_1519_pop','age3_total': 'betwn_1925_pop', \n",
    "                                       'age4_total': 'above25_pop', \n",
    "                                       \n",
    "                                       'White': 'white_pop','Black_AfAm': 'black_pop',\n",
    "                                       \n",
    "                                       'BM_COUNT': 'bm_pop','BF_COUNT': 'bf_pop', \n",
    "                                       \n",
    "                                       'WM_COUNT': 'wm_pop','WF_COUNT': 'wf_pop', \n",
    "                                       \n",
    "                                       'OM_COUNT': 'om_pop','OF_COUNT': 'of_pop', \n",
    "                                       \n",
    "                                       'male_age15_to24': 'male_betwn_1524_pop', 'male_age25_older': 'male_above25_pop', \n",
    "                                       'Female_age15_to24': 'fem_betwn_1524_pop', 'Female_age25_older': 'fem_above25_pop', \n",
    "                                       \n",
    "                                       'Age15_Older': 'age15_nabove_pop','Age15_Older_male': 'male_15nabove_pop', \n",
    "                                       'Age15_Older_Female': 'fem_15nabove_pop', \n",
    "                                       \n",
    "                                       'age16_oldemp': 'emp_16nabove', \n",
    "                                       'age16_oldemp_Male': 'emp_male_16nabove_pop','age16_oldemp_Female': 'emp_fem_16nabove_pop',\n",
    "                                       \n",
    "                                       'Nieghborhood': 'arr_neighborhood', \n",
    "                                       \n",
    "                                       'DRUGOFFBF_COUNT': 'drug_arr_bf_count','DRUGOFFBM_COUNT': 'drug_arr_bm_count',                                     \n",
    "                                       'DRUGOFFWF_COUNT': 'drug_arr_wf_count','DRUGOFFWM_COUNT': 'drug_arr_wm_count',                                        \n",
    "                                       'DRUGOFFOF_COUNT': 'drug_arr_of_count', 'DRUGOFFOM_COUNT': 'drug_arr_om_count', \n",
    "                                       \n",
    "                                       'DrugOff_Count': 'drug_arr_count',\n",
    "                                       'DrugOff_Count_age1': 'drug_arr_under15_count', 'DrugOff_Count_age2': 'drug_arr_1519_count',\n",
    "                                       'DrugOff_Count_age3': 'drug_arr_1925_count', 'DrugOff_Count_age4': 'drug_arr_above25_count',\n",
    "                                       \n",
    "                                       \n",
    "                                       'DISCONBF_COUNT': 'discon_arr_bf_count', 'DISCONBM_COUNT': 'discon_arr_bm_count',\n",
    "                                       'DISCONWF_COUNT': 'discon_arr_wf_count', 'DISCONWM_COUNT': 'discon_arr_wm_count',\n",
    "                                       'DISCONOF_COUNT': 'discon_arr_of_count', 'DISCONOM_COUNT': 'discon_arr_om_count',                                       \n",
    "                                       \n",
    "                                       'Disorderly_Count': 'discon_arr_count', 'Disorderly_Count_age1': 'discon_arr_under15_count',\n",
    "                                       'Disorderly_Count_age2': 'discon_arr_1519_count', 'Disorderly_Count_age3': 'discon_arr_1925_count',\n",
    "                                       'Disorderly_Count_age4': 'discon_arr_above25_count', \n",
    "                                       \n",
    "                                       \n",
    "                                       'TRAFFBF_COUNT': 'traff_arr_bf_count', 'TRAFFBM_COUNT': 'traff_arr_bm_count', \n",
    "                                       'TRAFFWF_COUNT': 'traff_arr_wf_count', 'TRAFFWM_COUNT': 'traff_arr_wm_count', \n",
    "                                       'TRAFFOF_COUNT': 'traff_arr_of_count', 'TRAFFOM_COUNT': 'traff_arr_om_count', \n",
    "                                       \n",
    "                                       'Traffic_Count': 'traff_arr_count', 'Traffic_Count_age1': 'traff_arr_under15_count', \n",
    "                                       'Traffic_Count_age2': 'traff_arr_1519_count', 'Traffic_Count_age3': 'traff_arr_1925_count', \n",
    "                                       'Traffic_Count_age4': 'traff_arr_above25_count',\n",
    "                                       \n",
    "                                       'policy_var': 'fg_inci_flag', \n",
    "                                       \n",
    "                                       'Description_new': 'cr_descr', 'Neighborhood': 'cr_neighborhood',\n",
    "                                       \n",
    "                                       'simasRP_count': 'simaslt_cr_count', 'aggassauRP_count': 'aggaslt_cr_count',\n",
    "                                       'robbRP_count': 'robb_cr_count', 'murdRP_count': 'murd_cr_count', \n",
    "                                       'shootRP_count': 'shoot_cr_count'}, inplace=True)"
   ]
  },
  {
   "cell_type": "code",
   "execution_count": 92,
   "metadata": {
    "collapsed": true
   },
   "outputs": [
    {
     "name": "stdout",
     "output_type": "stream",
     "text": [
      "['area', 'arr_neighborhood', 'cr_neighborhood', 'cr_descr', 'year', 'bach_educ_disadv', 'mar_male_disadv', 'inc_disadv', 'overall_disadv_idx', 'overall_disadv_idx_group', 'bm_pop', 'bf_pop', 'wm_pop', 'wf_pop', 'om_pop', 'of_pop', 'male_pop', 'fem_pop', 'white_pop', 'black_pop', 'total_pop', 'under15_pop', 'betwn_1519_pop', 'betwn_1925_pop', 'above25_pop', 'fem_above25_pop', 'fem_betwn_1524_pop', 'male_above25_pop', 'male_betwn_1524_pop', 'emp_16nabove', 'emp_male_16nabove_pop', 'emp_fem_16nabove_pop', 'age15_nabove_pop', 'male_15nabove_pop', 'fem_15nabove_pop', 'drug_arr_bf_count', 'drug_arr_bm_count', 'drug_arr_wf_count', 'drug_arr_wm_count', 'drug_arr_of_count', 'drug_arr_om_count', 'drug_arr_count', 'drug_arr_under15_count', 'drug_arr_1519_count', 'drug_arr_1925_count', 'drug_arr_above25_count', 'discon_arr_bf_count', 'discon_arr_bm_count', 'discon_arr_wf_count', 'discon_arr_wm_count', 'discon_arr_of_count', 'discon_arr_om_count', 'discon_arr_count', 'discon_arr_under15_count', 'discon_arr_1519_count', 'discon_arr_1925_count', 'discon_arr_above25_count', 'traff_arr_bf_count', 'traff_arr_bm_count', 'traff_arr_wf_count', 'traff_arr_wm_count', 'traff_arr_of_count', 'traff_arr_om_count', 'traff_arr_count', 'traff_arr_under15_count', 'traff_arr_1519_count', 'traff_arr_1925_count', 'traff_arr_above25_count', 'fg_inci_flag', 'simaslt_cr_count', 'aggaslt_cr_count', 'robb_cr_count', 'murd_cr_count', 'shoot_cr_count']\n"
     ]
    }
   ],
   "source": [
    "print(list(final_rates_counts_req))"
   ]
  },
  {
   "cell_type": "code",
   "execution_count": 111,
   "metadata": {},
   "outputs": [],
   "source": [
    "final_rates_counts_req_renmd = final_rates_counts_req.loc[:,['area', 'year', 'bach_educ_disadv', 'inc_disadv',\n",
    "                                                             'overall_disadv_idx', 'overall_disadv_idx_group',\n",
    "                                                             'total_pop', 'male_pop', 'fem_pop', 'under15_pop',\n",
    "                                                             'betwn_1519_pop', 'betwn_1925_pop', 'above25_pop', \n",
    "                                                             'white_pop', 'black_pop', 'bm_pop', 'bf_pop', 'wm_pop',\n",
    "                                                             'wf_pop', 'om_pop', 'of_pop', 'male_betwn_1524_pop',\n",
    "                                                             'male_above25_pop', 'fem_betwn_1524_pop', 'fem_above25_pop',\n",
    "                                                             'age15_nabove_pop', 'male_15nabove_pop', 'emp_16nabove',\n",
    "                                                             'emp_male_16nabove_pop', 'emp_fem_16nabove_pop', \n",
    "                                                             'arr_neighborhood', 'drug_arr_count', 'drug_arr_bm_count', \n",
    "                                                             'drug_arr_bf_count', 'drug_arr_wm_count', 'drug_arr_wf_count', 'drug_arr_om_count',\n",
    "                                                             'drug_arr_of_count', 'drug_arr_under15_count', 'drug_arr_1519_count',\n",
    "                                                             'drug_arr_1925_count', 'drug_arr_above25_count', \n",
    "                                                             'discon_arr_count', 'discon_arr_bm_count',\n",
    "                                                             'discon_arr_bf_count', 'discon_arr_wm_count', 'discon_arr_wf_count',\n",
    "                                                             'discon_arr_om_count', 'discon_arr_of_count', 'discon_arr_under15_count',\n",
    "                                                             'discon_arr_1519_count', 'discon_arr_1925_count', 'discon_arr_above25_count',\n",
    "                                                             'traff_arr_count', 'traff_arr_bm_count', 'traff_arr_bf_count', \n",
    "                                                             'traff_arr_wm_count', 'traff_arr_wf_count', 'traff_arr_om_count', 'traff_arr_of_count',\n",
    "                                                             'traff_arr_under15_count', 'traff_arr_1519_count', 'traff_arr_1925_count', \n",
    "                                                             'traff_arr_above25_count', 'fg_inci_flag', 'cr_descr', 'cr_neighborhood',\n",
    "                                                             'simaslt_cr_count', 'aggaslt_cr_count', 'robb_cr_count', 'murd_cr_count', 'shoot_cr_count'\n",
    "                                                            ]]"
   ]
  },
  {
   "cell_type": "code",
   "execution_count": 112,
   "metadata": {
    "collapsed": true
   },
   "outputs": [
    {
     "name": "stdout",
     "output_type": "stream",
     "text": [
      "['area', 'year', 'bach_educ_disadv', 'inc_disadv', 'overall_disadv_idx', 'overall_disadv_idx_group', 'total_pop', 'male_pop', 'fem_pop', 'under15_pop', 'betwn_1519_pop', 'betwn_1925_pop', 'above25_pop', 'white_pop', 'black_pop', 'bm_pop', 'bf_pop', 'wm_pop', 'wf_pop', 'om_pop', 'of_pop', 'male_betwn_1524_pop', 'male_above25_pop', 'fem_betwn_1524_pop', 'fem_above25_pop', 'age15_nabove_pop', 'male_15nabove_pop', 'emp_16nabove', 'emp_male_16nabove_pop', 'emp_fem_16nabove_pop', 'arr_neighborhood', 'drug_arr_count', 'drug_arr_bm_count', 'drug_arr_bf_count', 'drug_arr_wm_count', 'drug_arr_wf_count', 'drug_arr_om_count', 'drug_arr_of_count', 'drug_arr_under15_count', 'drug_arr_1519_count', 'drug_arr_1925_count', 'drug_arr_above25_count', 'discon_arr_count', 'discon_arr_bm_count', 'discon_arr_bf_count', 'discon_arr_wm_count', 'discon_arr_wf_count', 'discon_arr_om_count', 'discon_arr_of_count', 'discon_arr_under15_count', 'discon_arr_1519_count', 'discon_arr_1925_count', 'discon_arr_above25_count', 'traff_arr_count', 'traff_arr_bm_count', 'traff_arr_bf_count', 'traff_arr_wm_count', 'traff_arr_wf_count', 'traff_arr_om_count', 'traff_arr_of_count', 'traff_arr_under15_count', 'traff_arr_1519_count', 'traff_arr_1925_count', 'traff_arr_above25_count', 'fg_inci_flag', 'cr_descr', 'cr_neighborhood', 'simaslt_cr_count', 'aggaslt_cr_count', 'robb_cr_count', 'murd_cr_count', 'shoot_cr_count']\n"
     ]
    }
   ],
   "source": [
    "print(list(final_rates_counts_req_renmd))"
   ]
  },
  {
   "cell_type": "code",
   "execution_count": 113,
   "metadata": {},
   "outputs": [],
   "source": [
    "final_rates_counts_req_renmd.to_csv('/Users/salma/Research/papers/Baltimore_FreddieGray/data/cleaned/idx_pop_arr_cr_counts.csv', index=False)\n"
   ]
  },
  {
   "cell_type": "markdown",
   "metadata": {},
   "source": [
    "### Arrests - drug, disorderly conduct, traffic\n",
    "### Crime - murder, robbery, agg_assault, simple_assault, shooting"
   ]
  },
  {
   "cell_type": "markdown",
   "metadata": {},
   "source": [
    "*CHECK FOR OUTLIERS*"
   ]
  },
  {
   "cell_type": "code",
   "execution_count": 140,
   "metadata": {},
   "outputs": [],
   "source": [
    "# Utility function to find outliers within an area and write to separate file for each col\n",
    "def find_outliers_z(df, cols, z_val):\n",
    "    # a df with z score of each cell in original df\n",
    "    df_grpd = df.loc[:, cols].groupby('area').transform(lambda group: (group - group.mean()).div(group.std()))\n",
    "\n",
    "    for col in cols[1:]:\n",
    "        print(col)\n",
    "        olrs = df_grpd[f'{col}'].abs() > z_val\n",
    "        print(olrs[olrs==True])"
   ]
  },
  {
   "cell_type": "code",
   "execution_count": 141,
   "metadata": {
    "collapsed": true
   },
   "outputs": [
    {
     "name": "stdout",
     "output_type": "stream",
     "text": [
      "drug_arr_count\n",
      "Series([], Name: drug_arr_count, dtype: bool)\n",
      "discon_arr_count\n",
      "Series([], Name: discon_arr_count, dtype: bool)\n",
      "traff_arr_count\n",
      "Series([], Name: traff_arr_count, dtype: bool)\n",
      "simaslt_cr_count\n",
      "Series([], Name: simaslt_cr_count, dtype: bool)\n",
      "aggaslt_cr_count\n",
      "Series([], Name: aggaslt_cr_count, dtype: bool)\n",
      "robb_cr_count\n",
      "Series([], Name: robb_cr_count, dtype: bool)\n",
      "murd_cr_count\n",
      "Series([], Name: murd_cr_count, dtype: bool)\n",
      "shoot_cr_count\n",
      "Series([], Name: shoot_cr_count, dtype: bool)\n"
     ]
    }
   ],
   "source": [
    "## Check in DrugOff_Count, Disorderly_Count, Traffic_Count, 'simasRP_count', 'aggassauRP_count', \n",
    "## 'robbRP_count', 'murdRP_count', 'shootRP_count'   first \n",
    "find_outliers_z(df=final_rates_counts_req_renmd, \n",
    "                cols=['area', 'drug_arr_count', 'discon_arr_count', 'traff_arr_count', 'simaslt_cr_count', 'aggaslt_cr_count',\n",
    "                      'robb_cr_count', 'murd_cr_count', 'shoot_cr_count'],\n",
    "                z_val=3)\n",
    "\n",
    "## Since each crime was accounted for through reporting and was aggregated to get final counts, no outliers.\n",
    "## There were some outliers overall but since we are doing analysis within areas, doesn't matter"
   ]
  },
  {
   "cell_type": "code",
   "execution_count": null,
   "metadata": {},
   "outputs": [],
   "source": []
  },
  {
   "cell_type": "code",
   "execution_count": null,
   "metadata": {},
   "outputs": [],
   "source": []
  }
 ],
 "metadata": {
  "kernelspec": {
   "display_name": "misd_arrests_viol_crimes",
   "language": "python",
   "name": "misd_arrests_viol_crimes"
  },
  "language_info": {
   "codemirror_mode": {
    "name": "ipython",
    "version": 3
   },
   "file_extension": ".py",
   "mimetype": "text/x-python",
   "name": "python",
   "nbconvert_exporter": "python",
   "pygments_lexer": "ipython3",
   "version": "3.9.1"
  }
 },
 "nbformat": 4,
 "nbformat_minor": 4
}
